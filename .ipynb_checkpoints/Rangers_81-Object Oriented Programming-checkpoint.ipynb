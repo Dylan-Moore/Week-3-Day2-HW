{
 "cells": [
  {
   "cell_type": "markdown",
   "metadata": {},
   "source": [
    "# Object-Oriented-Programming (OOP)"
   ]
  },
  {
   "cell_type": "markdown",
   "metadata": {},
   "source": [
    "## Tasks Today:\n",
    "\n",
    "   \n",
    "\n",
    "1) <b>Creating a Class (Initializing/Declaring)</b> <br>\n",
    "2) <b>Using a Class (Instantiating)</b> <br>\n",
    " &nbsp;&nbsp;&nbsp;&nbsp; a) Creating One Instance <br>\n",
    " &nbsp;&nbsp;&nbsp;&nbsp; b) Creating Multiple Instances <br>\n",
    " &nbsp;&nbsp;&nbsp;&nbsp; c) In-Class Exercise #1 - Create a Class 'Car' and instantiate three different makes of cars <br>\n",
    "3) <b>The \\__init\\__() Method</b> <br>\n",
    " &nbsp;&nbsp;&nbsp;&nbsp; a) The 'self' Attribute <br>\n",
    "4) <b>Class Attributes</b> <br>\n",
    " &nbsp;&nbsp;&nbsp;&nbsp; a) Initializing Attributes <br>\n",
    " &nbsp;&nbsp;&nbsp;&nbsp; b) Setting an Attribute Outside of the \\__init\\__() Method <br>\n",
    " &nbsp;&nbsp;&nbsp;&nbsp; c) Setting Defaults for Attributes <br>\n",
    " &nbsp;&nbsp;&nbsp;&nbsp; d) Accessing Class Attributes <br>\n",
    " &nbsp;&nbsp;&nbsp;&nbsp; e) Changing Class Attributes <br>\n",
    " &nbsp;&nbsp;&nbsp;&nbsp; f) In-Class Exercise #2 - Add a color and wheels attribute to your 'Car' class <br>\n",
    "5) <b>Class Methods</b> <br>\n",
    " &nbsp;&nbsp;&nbsp;&nbsp; a) Creating <br>\n",
    " &nbsp;&nbsp;&nbsp;&nbsp; b) Calling <br>\n",
    " &nbsp;&nbsp;&nbsp;&nbsp; c) Modifying an Attribute's Value Through a Method <br>\n",
    " &nbsp;&nbsp;&nbsp;&nbsp; d) Incrementing an Attribute's Value Through a Method <br>\n",
    " &nbsp;&nbsp;&nbsp;&nbsp; e) In-Class Exercise #3 - Add a method that prints the cars color and wheel number, then call them <br>\n",
    "6) <b>Inheritance</b> <br>\n",
    " &nbsp;&nbsp;&nbsp;&nbsp; a) Syntax for Inheriting from a Parent Class <br>\n",
    " &nbsp;&nbsp;&nbsp;&nbsp; b) The \\__init\\__() Method for a Child Class (super()) <br>\n",
    " &nbsp;&nbsp;&nbsp;&nbsp; c) Defining Attributes and Methods for the Child Class <br>\n",
    " &nbsp;&nbsp;&nbsp;&nbsp; d) Method Overriding <br>\n",
    " &nbsp;&nbsp;&nbsp;&nbsp; e) In-Class Exercise #4 - Create a class 'Ford' that inherits from 'Car' class and initialize it as a Blue Ford Explorer with 4 wheels using the super() method <br>\n",
    "7) <b>Classes as Attributes</b> <br>\n",
    "8) <b>Exercises</b> <br>\n",
    " &nbsp;&nbsp;&nbsp;&nbsp; a) Exercise #1 - Turn the shopping cart program from last week into an object-oriented program <br>"
   ]
  },
  {
   "cell_type": "markdown",
   "metadata": {},
   "source": [
    "## Creating a Class (Initializing/Declaring)\n",
    "<p>When creating a class, function, or even a variable you are initializing that object. Initializing and Declaring occur at the same time in Python, whereas in lower level languages you have to declare an object before initializing it. This is the first step in the process of using a class.</p>"
   ]
  },
  {
   "cell_type": "code",
   "execution_count": null,
   "metadata": {},
   "outputs": [],
   "source": [
    "class Car():\n",
    "    wheels = 4\n",
    "    color = 'blue'\n",
    "    gas_tank = 15\n"
   ]
  },
  {
   "cell_type": "markdown",
   "metadata": {},
   "source": [
    "## Using a Class (Instantiating)\n",
    "<p>The process of creating a class is called <i>Instantiating</i>. Each time you create a variable of that type of class, it is referred to as an <i>Instance</i> of that class. This is the second step in the process of using a class.</p>"
   ]
  },
  {
   "cell_type": "markdown",
   "metadata": {},
   "source": [
    "##### Creating One Instance"
   ]
  },
  {
   "cell_type": "code",
   "execution_count": null,
   "metadata": {},
   "outputs": [],
   "source": [
    "ford = Car()\n"
   ]
  },
  {
   "cell_type": "markdown",
   "metadata": {},
   "source": [
    "##### Creating Multiple Instances"
   ]
  },
  {
   "cell_type": "code",
   "execution_count": null,
   "metadata": {},
   "outputs": [],
   "source": [
    "mazda = Car()\n",
    "chevy = Car()\n",
    "\n",
    "print(mazda.wheels)\n",
    "print(mazda.color)\n",
    "print(\"\\n\")\n",
    "print(chevy.color)\n",
    "print(chevy.wheels)\n",
    "print(chevy.gas_tank)\n",
    "\n",
    "print(f\"This is a {chevy.color} chevy, and it has {chevy.wheels} wheels.\")"
   ]
  },
  {
   "cell_type": "markdown",
   "metadata": {},
   "source": [
    "##### In-Class Exercise #1 - Create a Class 'Car' and Instantiate three different makes of cars"
   ]
  },
  {
   "cell_type": "code",
   "execution_count": null,
   "metadata": {},
   "outputs": [],
   "source": [
    "class Car():\n",
    "    wheels = 4\n",
    "    color = [\"green\",\"blue\",\"black\"]\n",
    "    top_speed = 300\n",
    "\n",
    "chevy = Car()\n",
    "Ford = Car()\n",
    "\n",
    "print(Ford.color)\n",
    "print(f\"We have a {Ford.color} Ford, that is {Ford.wheels} wheel drive, and has a top speed of {Ford.top_speed}\")\n"
   ]
  },
  {
   "cell_type": "markdown",
   "metadata": {},
   "source": [
    "## The \\__init\\__() Method <br>\n",
    "<p>This method is used in almost every created class, and called only once upon the creation of the class instance. This method will initialize all variables needed for the object.</p>"
   ]
  },
  {
   "cell_type": "code",
   "execution_count": null,
   "metadata": {},
   "outputs": [],
   "source": [
    "class Car():\n",
    "    ENGINE = '4.7 L'\n",
    "    def __init__(self, wheels, color):\n",
    "        self.wheels = wheels\n",
    "        self.color = color\n",
    "        \n",
    "mazda = Car(4,\"blue\")\n",
    "print(mazda.wheels)\n",
    "print(mazda.color)\n",
    "\n",
    "my_dict = mazda.__dict__\n",
    "print(my_dict)\n",
    "\n",
    "porsche = Car(4,\"Red\")\n",
    "# porsche.wheels +=1\n",
    "# print(porsche.wheels)"
   ]
  },
  {
   "cell_type": "markdown",
   "metadata": {},
   "source": [
    "##### The 'self' Attribute <br>\n",
    "<p>This attribute is required to keep track of specific instance's attributes. Without the self attribute, the program would not know how to reference or keep track of an instance's attributes.</p>"
   ]
  },
  {
   "cell_type": "code",
   "execution_count": null,
   "metadata": {},
   "outputs": [],
   "source": [
    "# see above\n",
    "class Pokemon():\n",
    "    def __init__(self,type_,weakness,strength,nature):\n",
    "        self.type_ = type_\n",
    "        self.weakness = weakness\n",
    "        self.strength = strength\n",
    "        self.nature = nature\n",
    "    \n",
    "Charmander = Pokemon(\"fire\",[\"water,rock,ground\"],[\"grass, bug, ice, steel\"],\"timid\")\n",
    "Bulbasaur = Pokemon([\"grass,poison\"], [\"fire\", \"flying\", \"ghost\", \"ice\"],[\"water\", \"rock\", \"ground\"],\"adamant\")\n",
    "print(Charmander.strength)\n",
    "print(Bulbasaur.strength)\n",
    "Charmander_dict = Charmander.__dict__\n",
    "print(Charmander_dict)\n",
    "print(Bulbasaur.nature)\n"
   ]
  },
  {
   "cell_type": "markdown",
   "metadata": {},
   "source": [
    "## Class Attributes <br>\n",
    "<p>While variables are inside of a class, they are referred to as attributes and not variables. When someone says 'attribute' you know they're speaking about a class. Attributes can be initialized through the init method, or outside of it.</p>"
   ]
  },
  {
   "cell_type": "markdown",
   "metadata": {},
   "source": [
    "##### Initializing Attributes"
   ]
  },
  {
   "cell_type": "code",
   "execution_count": null,
   "metadata": {},
   "outputs": [],
   "source": [
    "# see above\n",
    "class Dessert():\n",
    "    def __init__(self,temp,type_,flavor,sweetness,serving):\n",
    "        self.temp = temp\n",
    "        self.type_ = type_\n",
    "        self.flavor = flavor\n",
    "        self.sweetness = sweetness\n",
    "        self.serving = serving\n",
    "\n"
   ]
  },
  {
   "cell_type": "code",
   "execution_count": null,
   "metadata": {},
   "outputs": [],
   "source": [
    "Tiramasu = Dessert(\"cold\",\"Italian\", \"coffee flavored\",\"medium\", \"large\")\n",
    "print(f\"I like Tiramasu, because, it is {Tiramasu.temp}, {Tiramasu.type_}, and {Tiramasu.flavor}. The sweetness is {Tiramasu.sweetness} and serving is {Tiramasu.serving}\")"
   ]
  },
  {
   "cell_type": "markdown",
   "metadata": {},
   "source": [
    "##### Accessing Class Attributes"
   ]
  },
  {
   "cell_type": "code",
   "execution_count": null,
   "metadata": {
    "scrolled": true
   },
   "outputs": [],
   "source": [
    "# See Above"
   ]
  },
  {
   "cell_type": "markdown",
   "metadata": {},
   "source": [
    "##### Setting Defaults for Attributes"
   ]
  },
  {
   "cell_type": "code",
   "execution_count": null,
   "metadata": {},
   "outputs": [],
   "source": [
    "class Car():\n",
    "    ENGINE = \"4.7 L\" #constant attribut - that is not likely to be changed\n",
    "    def __init__(self,wheels):\n",
    "        self.wheels = wheels\n",
    "        self.color = \"Blue\" #Default attribute - this can be changed at any time\n",
    "lumina = Car(4)\n",
    "print(lumina.color)\n",
    "lumina.color = \"Turquoise\"\n",
    "print(lumina.color)"
   ]
  },
  {
   "cell_type": "code",
   "execution_count": null,
   "metadata": {},
   "outputs": [],
   "source": [
    "class Car():\n",
    "    ENGINE = \"4.7 L\" #constant attribut - that is not likely to be changed\n",
    "    def __init__(self,wheels, color = \"Blue\"):\n",
    "        self.wheels = wheels\n",
    "        self.color = color #Default attribute - this can be changed at any time\n",
    "        \n",
    "mazda = Car(4, \"Yellow\")\n",
    "print(mazda.wheels)\n",
    "print(mazda.color)\n"
   ]
  },
  {
   "cell_type": "markdown",
   "metadata": {},
   "source": [
    "##### Changing Class Attributes <br>\n",
    "<p>Keep in mind there are global class attributes and then there are attributes only available to each class instance which won't effect other classes.</p>"
   ]
  },
  {
   "cell_type": "code",
   "execution_count": null,
   "metadata": {},
   "outputs": [],
   "source": [
    "class Car():\n",
    "    ENGINE = \"4.7 L\" #constant attribut - that is not likely to be changed\n",
    "    def __init__(self,wheels, color):\n",
    "        self.wheels = wheels\n",
    "        self.color = color #Default attribute - this can be changed at any time\n",
    "\n",
    "beetle = Car(4,\"White\")\n",
    "print(\"Before attribute change\")\n",
    "print(beetle.wheels)\n",
    "print(beetle.color)\n",
    "print(\"\\n\")\n",
    "print(\"After attribute change\")\n",
    "beetle.wheels = 5\n",
    "print(beetle.wheels)\n",
    "beetle.color = \"Black with racing stripes\"\n",
    "print(beetle.color)\n"
   ]
  },
  {
   "cell_type": "code",
   "execution_count": null,
   "metadata": {},
   "outputs": [],
   "source": [
    "beetle = Car(4,\"white\")\n",
    "print(beetle.wheels)\n",
    "print(beetle.color)"
   ]
  },
  {
   "cell_type": "code",
   "execution_count": null,
   "metadata": {},
   "outputs": [],
   "source": []
  },
  {
   "cell_type": "markdown",
   "metadata": {},
   "source": [
    "##### In-Class Exercise #2 - Add a doors and seats attribute to your 'Car' class then print out two different instances with different doors and seats"
   ]
  },
  {
   "cell_type": "code",
   "execution_count": null,
   "metadata": {},
   "outputs": [],
   "source": [
    "class Car():\n",
    "    ENGINE = \"4.7 L\" #constant attribut - that is not likely to be changed\n",
    "    def __init__(self,wheels, color,doors,seats):\n",
    "        self.wheels = wheels\n",
    "        self.color = color #Default attribute - this can be changed at any time\n",
    "        self.doors = doors\n",
    "        self.seats = seats\n",
    "Jeep = Car(4,\"Blue\",4,5)\n",
    "print(Jeep.doors)\n",
    "print(Jeep.seats)\n",
    "print(\"Doors removed, seats removed\")\n",
    "Jeep.doors = 0\n",
    "Jeep.seats = 2\n",
    "print(Jeep.doors)\n",
    "print(Jeep.seats)\n",
    "print(Jeep.color)\n",
    "Jeep.cost = 1000\n",
    "print(Jeep.cost)\n",
    "print(\"Added seats back\")\n",
    "Jeep.seats = 5\n",
    "print(Jeep.doors)\n",
    "print(Jeep.seats)"
   ]
  },
  {
   "cell_type": "markdown",
   "metadata": {},
   "source": [
    "## Class Methods <br>\n",
    "<p>While inside of a class, functions are referred to as 'methods'. If you hear someone mention methods, they're speaking about classes. Methods are essentially functions, but only callable on the instances of a class.</p>"
   ]
  },
  {
   "cell_type": "markdown",
   "metadata": {},
   "source": [
    "##### Creating"
   ]
  },
  {
   "cell_type": "code",
   "execution_count": null,
   "metadata": {},
   "outputs": [],
   "source": [
    "class Bus():\n",
    "    \"\"\"\n",
    "    The Bus will have doors, seats, seats available, color, and a bus driver\n",
    "    \n",
    "    Attributes for the class:\n",
    "    -doors: integer\n",
    "    -seats:integer\n",
    "    -seats_availabe:integer\n",
    "    -color:string\n",
    "    -bus_driver:string\n",
    "    \"\"\"\n",
    "    def __init__(self,doors,seats,seats_available,color,bus_driver):\n",
    "        self.doors = doors\n",
    "        self.seats = seats\n",
    "        self.seats_available = seats_available\n",
    "        self.color = color\n",
    "        self.bus_driver = bus_driver\n",
    "    #Decrement the number of seats available based on passengers getting on\n",
    "    def load_passengers(self):\n",
    "        if self.seats_available <= 0:\n",
    "            print(\"This bus is full! You can't take anymore passengers\")\n",
    "        if self.seats_available <0:\n",
    "                print(f\"You left {abs(self.seats_available)} people by the road\")\n",
    "                self.seats_available = 0\n",
    "        else:\n",
    "            passengers = int(input(\"How many passengers are getting on? \"))\n",
    "            self.seats_available -= passengers\n",
    "            print(f\"{passengers} have boarded the bus and there are {self.seats_available} available\")\n",
    "    #increment number of seats available with a method     \n",
    "    def unload_passengers(self):\n",
    "        if self.seats_available >= self.seats:\n",
    "            print(\"There is no one left on the bus. Go Home! Thank you Bus Driver!\")\n",
    "            self.seats_available = self.seats\n",
    "        else:\n",
    "            unload = int(input(\"How many passengers are getting off the bus? \"))\n",
    "            self.seats_available += unload\n",
    "            if self.seats_available >= self.seats:\n",
    "                self.seats_available = self.seats\n",
    "                print(f\"{unload} many passengers have left the bus. There are {self.seats_available} seats available.\")\n",
    "            print(f\"{unload} passengers have left the bus. There are {self.seats_available} seats available.\")\n",
    "    #Modifying an attribute's value with a method\n",
    "    def change_driver(self):\n",
    "        change = input(\"Who is replacing you?\")\n",
    "        self.bus_driver = change\n",
    "        print(f\"The new bus driver is {self.bus_driver}\")\n",
    "    \n",
    "    def check_seats(self):\n",
    "        print(f\"You notice there are {self.seats_available} available. \")\n",
    "    \n",
    "    def admire_bus(self):\n",
    "        print(f\"Would ya just look at that beautiful {self.color} bus!\")\n",
    "\n",
    "Dylan_bus = Bus(2, 90, 45, \"Blue\", \"Dylan\")\n"
   ]
  },
  {
   "cell_type": "markdown",
   "metadata": {},
   "source": [
    "##### Calling"
   ]
  },
  {
   "cell_type": "code",
   "execution_count": null,
   "metadata": {},
   "outputs": [],
   "source": [
    "# See Above\n",
    "def run():\n",
    "    while True:\n",
    "        response = input(\"What would you like to do? Load/Unload/Change Driver/Check Seats/Admire/Quit? \")\n",
    "        response = response.lower()\n",
    "        if response.lower() == \"quit\":\n",
    "            print(\"Oh no! There are still passengers to be picked up! :(\")\n",
    "            break\n",
    "        elif response == \"load\":\n",
    "            Dylan_bus.load_passengers()\n",
    "        elif response == \"unload\":\n",
    "            Dylan_bus.unload_passengers()\n",
    "        elif response == \"change driver\":\n",
    "            Dylan_bus.change_driver()\n",
    "        elif response == \"admire\":\n",
    "            Dylan_bus.admire_bus()\n",
    "        else:\n",
    "            print(\"You can't do that on my bus! Please enter a valid response.\")\n",
    "run()"
   ]
  },
  {
   "cell_type": "markdown",
   "metadata": {},
   "source": [
    "##### Modifying an Attribute's Value Through a Method"
   ]
  },
  {
   "cell_type": "code",
   "execution_count": null,
   "metadata": {},
   "outputs": [],
   "source": [
    "def change_driver(self):\n",
    "        change = input(\"Who is replacing you?\")\n",
    "        self.bus_driver = change\n",
    "        print(f\"The new bus driver is {self.bus_driver}\")"
   ]
  },
  {
   "cell_type": "markdown",
   "metadata": {},
   "source": [
    "##### Incrementing an Attribute's Value Through a Method"
   ]
  },
  {
   "cell_type": "code",
   "execution_count": null,
   "metadata": {},
   "outputs": [],
   "source": [
    " def unload_passengers(self):\n",
    "        if self.seats_available >= self.seats:\n",
    "            print(\"There is no one left on the bus. Go Home! Thank you Bus Driver!\")\n",
    "            self.seats_available = self.seats\n",
    "        else:\n",
    "            unload = int(input(\"How many passengers are getting off the bus? \"))\n",
    "            self.seats_available += unload\n",
    "            if self.seats_available >= self.seats:\n",
    "                self.seats_available = self.seats\n",
    "                print(f\"{unload} many passengers have left the bus. There are {self.seats_available} seats available.\")\n",
    "            print(f\"{unload} passengers have left the bus. There are {self.seats_available} seats available.\")"
   ]
  },
  {
   "cell_type": "markdown",
   "metadata": {},
   "source": [
    "##### In-Class Exercise #3 - Add a method that takes in three parameters of year, doors and seats and prints out a formatted print statement with make, model, year, seats, and doors"
   ]
  },
  {
   "cell_type": "code",
   "execution_count": null,
   "metadata": {},
   "outputs": [],
   "source": [
    "# Create class with 2 paramters inside of the __init__ which are make and model\n",
    "\n",
    "# Inside of the Car class create a method that has 4 parameter in total (self,year,door,seats)\n",
    "\n",
    "# Output: This car is from 2019 and is a Ford Expolorer and has 4 doors and 5 seats\n",
    "\n",
    "class Car():\n",
    "    def __init__(self,brand = \" \", year = \" \", door= \" \", seats= \" \"):\n",
    "        self.year = year\n",
    "        self.door = door\n",
    "        self.seats = seats\n",
    "        self.brand = brand\n",
    "    def exp_car(self):\n",
    "        br = input(\"What brand is your car?\")\n",
    "        self.brand = br\n",
    "        date = input(\"What year is your car?\")\n",
    "        self.year = date\n",
    "        sides = input(\"How many doors do you have?\")\n",
    "        self.doors = sides\n",
    "        seater = input(\"How do those seats look?\")\n",
    "        self.seats = seater\n",
    "        print(f\"You have a {self.brand}, from {self.year} with {self.doors} doors and {self.seats} seats\")\n",
    "def run():\n",
    "    response = input(\"would you describe your car?\")\n",
    "    response.lower()\n",
    "    if response == \"yes\":\n",
    "        my_car.exp_car()\n",
    "\n",
    "my_car = Car()\n",
    "run()\n",
    "\n",
    "    "
   ]
  },
  {
   "cell_type": "markdown",
   "metadata": {},
   "source": [
    "## Inheritance <br>\n",
    "<p>You can create a child-parent relationship between two classes by using inheritance. What this allows you to do is have overriding methods, but also inherit traits from the parent class. Think of it as an actual parent and child, the child will inherit the parent's genes, as will the classes in OOP</p>"
   ]
  },
  {
   "cell_type": "markdown",
   "metadata": {},
   "source": [
    "##### Syntax for Inheriting from a Parent Class"
   ]
  },
  {
   "cell_type": "code",
   "execution_count": null,
   "metadata": {},
   "outputs": [],
   "source": [
    "#Creating parent class of an animal\n",
    "class Animal():\n",
    "    ACCELERATION = 9.8\n",
    "    \n",
    "    def __init__(self, name, species, legs = 4):\n",
    "        self.name = name\n",
    "        self.species = species\n",
    "        self.legs = legs\n",
    "        \n",
    "    #Generic parent method\n",
    "    def makeSound(self):\n",
    "        print(\"REEEEEEEEEEEEEE\")\n",
    "        \n",
    "#creation of child class - Dog\n",
    "class Dog(Animal):\n",
    "    SPEED = 15\n",
    "    \n",
    "    def printInfo(self): \n",
    "        print(f\"The dog runs at {self.SPEED} mph, and accelerates at {self.ACCELERATION} mps^2\")\n",
    "        \n",
    "        \n",
    "#Creation of grandchild class - Mutt\n",
    "class Mutt(Dog):\n",
    "    COLOR = \"black & brown\"\n",
    "    \n",
    "    #pull the animal class __init__ by way of using the Dog Class\n",
    "    def __init__(self, name, species, eye_color, legs = 4):\n",
    "        Dog.__init__(self,name,species,legs)\n",
    "        self.eye_color = eye_color\n",
    "    \n",
    "    #Override the makeSound method from the Animal Class\n",
    "    def makeSound(self):\n",
    "        print(\"ruff ruff ruff\")\n",
    "cheetah = Animal(\"Chester\", \"cheetah\")\n",
    "print(cheetah.name)\n",
    "print(cheetah.ACCELERATION)\n",
    "cheetah.makeSound()\n",
    "print(\"\\n\")\n",
    "lassie = Dog(\"Lassie\", \"Dog\")\n",
    "print(lassie.name)\n",
    "print(lassie.species)\n",
    "print(lassie.SPEED)\n",
    "print(lassie.ACCELERATION)\n",
    "lassie.printInfo()\n",
    "lassie.makeSound()\n",
    "print(\"\\n\")\n",
    "eyo = Mutt(\"Eyo\",\"Dog\",\"brown\")\n",
    "print(eyo.SPEED)\n",
    "print(eyo.ACCELERATION)\n",
    "print(eyo.eye_color)\n",
    "eyo.makeSound()"
   ]
  },
  {
   "cell_type": "markdown",
   "metadata": {},
   "source": [
    "##### The \\__init\\__() Method for a Child Class - super()"
   ]
  },
  {
   "cell_type": "code",
   "execution_count": null,
   "metadata": {
    "scrolled": true
   },
   "outputs": [],
   "source": [
    "class Mutt(Dog):\n",
    "    COLOR = \"brownish\"\n",
    "    \n",
    "    #pulling in parent attributes by way of the super().__init__\n",
    "    def __init__(self,name,species,eye_color, legs = 4):\n",
    "        super().__init__(name,species,legs)\n",
    "        #super will reference the Parent class that the child class last takes in\n",
    "        self.eye_color = eye_color\n",
    "    def makeSound(self):\n",
    "        print(\"woooooooooof\")\n",
    "\n",
    "Franny = Mutt(\"Franny\",\"Labradoodle\",\"brown\")\n",
    "print(Franny.name)\n",
    "print(Franny.species)\n",
    "print(Franny.eye_color)"
   ]
  },
  {
   "cell_type": "markdown",
   "metadata": {},
   "source": [
    "##### Defining Attributes and Methods for the Child Class"
   ]
  },
  {
   "cell_type": "code",
   "execution_count": null,
   "metadata": {},
   "outputs": [],
   "source": [
    "# See Above\n",
    "class Dog(Animal):\n",
    "    SPEED = 15\n",
    "    \n",
    "    def printInfo(self): \n",
    "        print(f\"The dog runs at {self.SPEED} mph, and accelerates at {self.ACCELERATION} mps^2\")\n",
    "        \n",
    "        \n",
    "#Creation of grandchild class - Mutt\n",
    "class Mutt(Dog):\n",
    "    COLOR = \"black & brown\"\n",
    "    \n",
    "    #pull the animal class __init__ by way of using the Dog Class\n",
    "    def __init__(self, name, species, eye_color, legs = 4):\n",
    "        Dog.__init__(self,name,species,legs)\n",
    "        self.eye_color = eye_color\n",
    "    \n",
    "    #Override the makeSound method from the Animal Class"
   ]
  },
  {
   "cell_type": "markdown",
   "metadata": {},
   "source": [
    "##### Method Overriding"
   ]
  },
  {
   "cell_type": "code",
   "execution_count": null,
   "metadata": {},
   "outputs": [],
   "source": [
    "# See Above\n",
    "class Battery():\n",
    "    VOLTZ = 7.8\n",
    "    \n",
    "    def __init__(self,cells):\n",
    "        self.cells = cells\n",
    "        \n",
    "class Car():\n",
    "    def __init__(self,year,make,model,battery):\n",
    "        self.year = year\n",
    "        self.make = make\n",
    "        self.model = model\n",
    "        self.battery = battery\n",
    "        \n",
    "    def printInfo(self):\n",
    "        return f\"{self.year} {self.make} {self.model} {self.battery.cells} battery cells\"\n",
    "        \n",
    "battery = Battery(20)\n",
    "\n",
    "tesla_model_S_plaid = Car(2022, \"Tesla\", \"Model S\", battery)\n",
    "\n",
    "print(tesla_model_S_plaid.battery.VOLTZ)"
   ]
  },
  {
   "cell_type": "markdown",
   "metadata": {},
   "source": [
    "## Classes as Attributes <br>\n",
    "<p>Classes can also be used as attributes within another class. This is useful in situations where you need to keep variables locally stored, instead of globally stored.</p>"
   ]
  },
  {
   "cell_type": "code",
   "execution_count": null,
   "metadata": {},
   "outputs": [],
   "source": []
  },
  {
   "cell_type": "markdown",
   "metadata": {},
   "source": [
    "# Exercises"
   ]
  },
  {
   "cell_type": "markdown",
   "metadata": {},
   "source": [
    "### Exercise 1 - Turn the shopping cart program from yesterday into an object-oriented program\n",
    "\n",
    "The comments in the cell below are there as a guide for thinking about the problem. However, if you feel a different way is best for you and your own thought process, please do what feels best for you by all means."
   ]
  },
  {
   "cell_type": "code",
   "execution_count": null,
   "metadata": {},
   "outputs": [],
   "source": [
    "# Create a class called cart that retains items and has methods to add, remove, and show\n",
    "\n",
    "class Cart():\n",
    "    def __init__(self, grocery = {}):\n",
    "        self.grocery = grocery\n",
    "    def add_groc(self):\n",
    "        groc = input(\"What would you like to add? \")\n",
    "        cost = float(input(\"What does it cost? \"))\n",
    "        self.grocery[groc] =  cost\n",
    "        print(f\"you added {groc} for {cost}.\")\n",
    "    def empty_groc(self):\n",
    "        groc2 = input(\"What would you like to remove?\")\n",
    "        del self.grocery[groc2]\n",
    "    def show_groc(self):\n",
    "        total = sum(self.grocery.values())\n",
    "        print(f\"Your grocery list has {self.grocery.keys()} in it\")\n",
    "        print(f\"and your total so far is ${total}\")\n",
    "    def leave_groc(self):\n",
    "        total = sum(self.grocery.values())\n",
    "        print(f\"Here is your list! {self.grocery.keys()}\")\n",
    "        print(f\"and your total is ${total}\")\n",
    "new_cart = Cart()\n",
    "def run():\n",
    "    while True:\n",
    "        response = input(\"Would you like to add, remove or show your list? type 'quit' to quit \")\n",
    "        response = response.lower()\n",
    "        if response == \"add\":\n",
    "            new_cart.add_groc()\n",
    "        elif response == \"remove\":\n",
    "            new_cart.empty_groc()\n",
    "        elif response == \"show\":\n",
    "            new_cart.show_groc()\n",
    "        elif response == \"quit\":\n",
    "            new_cart.leave_groc()\n",
    "            break\n",
    "        else:\n",
    "            print(\"Please enter a valid option\")\n",
    "\n",
    "run()\n",
    "    "
   ]
  },
  {
   "cell_type": "markdown",
   "metadata": {},
   "source": [
    "### Exercise 2 - Write a Python class which has two methods get_String and print_String. get_String accept a string from the user and print_String print the string in upper case"
   ]
  },
  {
   "cell_type": "code",
   "execution_count": null,
   "metadata": {},
   "outputs": [],
   "source": [
    "class strng():\n",
    "    def __init__(self, string_ = \" \"):\n",
    "        self.string_ = string_\n",
    "    def get_String(self):\n",
    "        question = input(\"Please enter a string \")\n",
    "        self.string_ = question\n",
    "    def print_String(self):\n",
    "        print(f\"{self.string_.upper()}\")\n",
    "nw_strng = strng()\n",
    "def run2():\n",
    "    while True:\n",
    "        response = input(\"Would you like to capitalize a string? \")\n",
    "        response = response.lower()\n",
    "        if response == \"yes\":\n",
    "            nw_strng.get_String()\n",
    "            nw_strng.print_String()\n",
    "        else:\n",
    "            print(\"Goodbye\")\n",
    "            break\n",
    "run2()"
   ]
  }
 ],
 "metadata": {
  "kernelspec": {
   "display_name": "Python 3 (ipykernel)",
   "language": "python",
   "name": "python3"
  },
  "language_info": {
   "codemirror_mode": {
    "name": "ipython",
    "version": 3
   },
   "file_extension": ".py",
   "mimetype": "text/x-python",
   "name": "python",
   "nbconvert_exporter": "python",
   "pygments_lexer": "ipython3",
   "version": "3.9.12"
  }
 },
 "nbformat": 4,
 "nbformat_minor": 2
}
